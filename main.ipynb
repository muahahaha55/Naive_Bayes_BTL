{
 "cells": [
  {
   "cell_type": "code",
   "execution_count": 99,
   "id": "258ab05c-56ca-415b-ac37-9a0ce2baaf98",
   "metadata": {},
   "outputs": [],
   "source": [
    "import pandas as pd\n",
    "import numpy as np\n",
    "import seaborn as sns\n",
    "import matplotlib.pyplot as plt\n",
    "\n",
    "from sklearn.model_selection import train_test_split\n",
    "from sklearn.metrics import accuracy_score, confusion_matrix, classification_report\n",
    "from sklearn.naive_bayes import GaussianNB\n",
    "from sklearn.preprocessing import LabelEncoder, StandardScaler, OrdinalEncoder\n",
    "from imblearn.over_sampling import SMOTE\n",
    "\n",
    "import warnings\n",
    "warnings.filterwarnings('ignore')\n",
    "\n",
    "pd.set_option('display.max_columns', 20)\n",
    "pd.set_option('display.width', 1000)\n",
    "pd.set_option('display.float_format', lambda x: '%.3f' % x)"
   ]
  },
  {
   "cell_type": "code",
   "execution_count": 100,
   "id": "8cf5931a-8008-4aa1-978d-ec14c99dcb03",
   "metadata": {
    "scrolled": true
   },
   "outputs": [
    {
     "name": "stdout",
     "output_type": "stream",
     "text": [
      "Data loaded successfully with 100,000 rows and 9 columns.\n",
      "Columns present in the dataset: \n",
      "['event_time', 'event_type', 'product_id', 'category_id', 'category_code', 'brand', 'price', 'user_id', 'user_session']\n"
     ]
    }
   ],
   "source": [
    "data_path = r'D:\\2019-Nov-100k.csv'\n",
    "df = pd.read_csv(data_path, nrows = 100000)\n",
    "print(f\"Data loaded successfully with {len(df):,} rows and {df.shape[1]} columns.\")\n",
    "print(\"Columns present in the dataset: \")\n",
    "print(df.columns.to_list())"
   ]
  },
  {
   "cell_type": "code",
   "execution_count": 101,
   "id": "d958ce76-a4d2-4f41-8191-7cf54c669e8c",
   "metadata": {},
   "outputs": [
    {
     "name": "stdout",
     "output_type": "stream",
     "text": [
      "Detailed information about the dataset: \n",
      "<class 'pandas.core.frame.DataFrame'>\n",
      "RangeIndex: 100000 entries, 0 to 99999\n",
      "Data columns (total 9 columns):\n",
      " #   Column         Non-Null Count   Dtype  \n",
      "---  ------         --------------   -----  \n",
      " 0   event_time     100000 non-null  object \n",
      " 1   event_type     100000 non-null  object \n",
      " 2   product_id     100000 non-null  int64  \n",
      " 3   category_id    100000 non-null  int64  \n",
      " 4   category_code  66160 non-null   object \n",
      " 5   brand          84224 non-null   object \n",
      " 6   price          100000 non-null  float64\n",
      " 7   user_id        100000 non-null  int64  \n",
      " 8   user_session   100000 non-null  object \n",
      "dtypes: float64(1), int64(3), object(5)\n",
      "memory usage: 6.9+ MB\n",
      "None\n",
      "Descriptive statistics for numerical columns: \n",
      "        product_id             category_id      price       user_id\n",
      "count   100000.000              100000.000 100000.000    100000.000\n",
      "mean  11235774.525 2057925778231054592.000    281.540 535487106.019\n",
      "std   12198073.903   19654202173385800.000    342.415  20317552.432\n",
      "min    1000978.000 2053013552226107648.000      0.000 275256741.000\n",
      "25%    1200954.500 2053013555464110592.000     65.640 515924805.000\n",
      "50%    5301584.500 2053013555631882752.000    164.950 531590004.000\n",
      "75%   16500007.000 2053013563173241600.000    350.853 554930067.000\n",
      "max   60500002.000 2180736567012753664.000   2574.070 566309999.000\n"
     ]
    }
   ],
   "source": [
    "print(\"Detailed information about the dataset: \")\n",
    "print(df.info())\n",
    "print(\"Descriptive statistics for numerical columns: \")\n",
    "print(df.describe())"
   ]
  },
  {
   "cell_type": "code",
   "execution_count": 102,
   "id": "4678a522-80a9-4174-8ebb-19aa029ef01a",
   "metadata": {},
   "outputs": [
    {
     "name": "stdout",
     "output_type": "stream",
     "text": [
      "\n",
      " 🛒 Statistics of behaviour types in the dataset: \n",
      "event_type\n",
      "view        97489\n",
      "purchase     1422\n",
      "cart         1089\n",
      "Name: count, dtype: int64\n"
     ]
    },
    {
     "data": {
      "image/png": "[encoded data removed]",
      "text/plain": [
       "<Figure size 800x600 with 1 Axes>"
      ]
     },
     "metadata": {},
     "output_type": "display_data"
    },
    {
     "name": "stdout",
     "output_type": "stream",
     "text": [
      "The first 5 rows of the dataset: \n",
      "                event_time event_type  product_id          category_id              category_code   brand   price    user_id                          user_session                 even_time\n",
      "0  2019-11-01 00:00:00 UTC       view     1003461  2053013555631882655     electronics.smartphone  xiaomi 489.070  520088904  4d3b30da-a5e4-49df-b1a8-ba5943f1dd33 2019-11-01 00:00:00+00:00\n",
      "1  2019-11-01 00:00:00 UTC       view     5000088  2053013566100866035  appliances.sewing_machine  janome 293.650  530496790  8e5f4f83-366c-4f70-860e-ca7417414283 2019-11-01 00:00:00+00:00\n",
      "2  2019-11-01 00:00:01 UTC       view    17302664  2053013553853497655                        NaN   creed  28.310  561587266  755422e7-9040-477b-9bd2-6a6e8fd97387 2019-11-01 00:00:01+00:00\n",
      "3  2019-11-01 00:00:01 UTC       view     3601530  2053013563810775923  appliances.kitchen.washer      lg 712.870  518085591  3bfb58cd-7892-48cc-8020-2f17e6de6e7f 2019-11-01 00:00:01+00:00\n",
      "4  2019-11-01 00:00:01 UTC       view     1004775  2053013555631882655     electronics.smartphone  xiaomi 183.270  558856683  313628f1-68b8-460d-84f6-cec7a8796ef2 2019-11-01 00:00:01+00:00\n"
     ]
    }
   ],
   "source": [
    "print(\"\\n 🛒 Statistics of behaviour types in the dataset: \")\n",
    "event_counts = df['event_type'].value_counts()\n",
    "print(event_counts)\n",
    "plt.figure(figsize=(8,6))\n",
    "sns.barplot(x = event_counts.index, y = event_counts.values, palette='PuBuGn')\n",
    "plt.title(\"Distribution of behaviour types\")\n",
    "plt.xlabel(\"Event_type\")\n",
    "plt.ylabel(\"Number\")\n",
    "plt.show()\n",
    "df['even_time'] = pd.to_datetime(df['event_time'])\n",
    "print(\"The first 5 rows of the dataset: \")\n",
    "print(df.head())"
   ]
  },
  {
   "cell_type": "code",
   "execution_count": 103,
   "id": "83c4ac66-c49f-419c-8edd-0b38428b6810",
   "metadata": {},
   "outputs": [
    {
     "name": "stdout",
     "output_type": "stream",
     "text": [
      "Checking the proportion of missing data in the dataset...\n",
      "⚠️ Columns with missing values: \n"
     ]
    },
    {
     "data": {
      "text/plain": [
       "category_code   33.840\n",
       "brand           15.776\n",
       "dtype: float64"
      ]
     },
     "metadata": {},
     "output_type": "display_data"
    }
   ],
   "source": [
    "print(\"Checking the proportion of missing data in the dataset...\")\n",
    "missing_percent = df.isnull().mean() * 100\n",
    "missing_percent = missing_percent[missing_percent > 0].sort_values(ascending=False)\n",
    "\n",
    "if missing_percent.empty:\n",
    "    print(\"✅ There is no missing data in the dataset!\")\n",
    "else:\n",
    "    print(\"⚠️ Columns with missing values: \")\n",
    "    display(missing_percent)"
   ]
  },
  {
   "cell_type": "code",
   "execution_count": 104,
   "id": "eabecc41-cc7a-453c-bb92-9a7597781839",
   "metadata": {},
   "outputs": [
    {
     "name": "stdout",
     "output_type": "stream",
     "text": [
      "Processing missing values...\n",
      "\n",
      "The price column has 0 missing values -> Replace by the median.\n",
      "Column 'category_code' has 33,840 missing values -> Replace by 'unknown'\n",
      "Column 'brand' has 15,776 missing values -> Replace by 'unknown'\n",
      "After processing, the remaining missing columns(if any):\n",
      "Series([], dtype: int64)\n"
     ]
    },
    {
     "data": {
      "text/html": [
       "<div>\n",
       "<style scoped>\n",
       "    .dataframe tbody tr th:only-of-type {\n",
       "        vertical-align: middle;\n",
       "    }\n",
       "\n",
       "    .dataframe tbody tr th {\n",
       "        vertical-align: top;\n",
       "    }\n",
       "\n",
       "    .dataframe thead th {\n",
       "        text-align: right;\n",
       "    }\n",
       "</style>\n",
       "<table border=\"1\" class=\"dataframe\">\n",
       "  <thead>\n",
       "    <tr style=\"text-align: right;\">\n",
       "      <th></th>\n",
       "      <th>event_time</th>\n",
       "      <th>event_type</th>\n",
       "      <th>product_id</th>\n",
       "      <th>category_id</th>\n",
       "      <th>category_code</th>\n",
       "      <th>brand</th>\n",
       "      <th>price</th>\n",
       "      <th>user_id</th>\n",
       "      <th>user_session</th>\n",
       "      <th>even_time</th>\n",
       "    </tr>\n",
       "  </thead>\n",
       "  <tbody>\n",
       "    <tr>\n",
       "      <th>0</th>\n",
       "      <td>2019-11-01 00:00:00 UTC</td>\n",
       "      <td>view</td>\n",
       "      <td>1003461</td>\n",
       "      <td>2053013555631882655</td>\n",
       "      <td>electronics.smartphone</td>\n",
       "      <td>xiaomi</td>\n",
       "      <td>489.070</td>\n",
       "      <td>520088904</td>\n",
       "      <td>4d3b30da-a5e4-49df-b1a8-ba5943f1dd33</td>\n",
       "      <td>2019-11-01 00:00:00+00:00</td>\n",
       "    </tr>\n",
       "    <tr>\n",
       "      <th>1</th>\n",
       "      <td>2019-11-01 00:00:00 UTC</td>\n",
       "      <td>view</td>\n",
       "      <td>5000088</td>\n",
       "      <td>2053013566100866035</td>\n",
       "      <td>appliances.sewing_machine</td>\n",
       "      <td>janome</td>\n",
       "      <td>293.650</td>\n",
       "      <td>530496790</td>\n",
       "      <td>8e5f4f83-366c-4f70-860e-ca7417414283</td>\n",
       "      <td>2019-11-01 00:00:00+00:00</td>\n",
       "    </tr>\n",
       "    <tr>\n",
       "      <th>2</th>\n",
       "      <td>2019-11-01 00:00:01 UTC</td>\n",
       "      <td>view</td>\n",
       "      <td>17302664</td>\n",
       "      <td>2053013553853497655</td>\n",
       "      <td>unknown</td>\n",
       "      <td>creed</td>\n",
       "      <td>28.310</td>\n",
       "      <td>561587266</td>\n",
       "      <td>755422e7-9040-477b-9bd2-6a6e8fd97387</td>\n",
       "      <td>2019-11-01 00:00:01+00:00</td>\n",
       "    </tr>\n",
       "    <tr>\n",
       "      <th>3</th>\n",
       "      <td>2019-11-01 00:00:01 UTC</td>\n",
       "      <td>view</td>\n",
       "      <td>3601530</td>\n",
       "      <td>2053013563810775923</td>\n",
       "      <td>appliances.kitchen.washer</td>\n",
       "      <td>lg</td>\n",
       "      <td>712.870</td>\n",
       "      <td>518085591</td>\n",
       "      <td>3bfb58cd-7892-48cc-8020-2f17e6de6e7f</td>\n",
       "      <td>2019-11-01 00:00:01+00:00</td>\n",
       "    </tr>\n",
       "    <tr>\n",
       "      <th>4</th>\n",
       "      <td>2019-11-01 00:00:01 UTC</td>\n",
       "      <td>view</td>\n",
       "      <td>1004775</td>\n",
       "      <td>2053013555631882655</td>\n",
       "      <td>electronics.smartphone</td>\n",
       "      <td>xiaomi</td>\n",
       "      <td>183.270</td>\n",
       "      <td>558856683</td>\n",
       "      <td>313628f1-68b8-460d-84f6-cec7a8796ef2</td>\n",
       "      <td>2019-11-01 00:00:01+00:00</td>\n",
       "    </tr>\n",
       "  </tbody>\n",
       "</table>\n",
       "</div>"
      ],
      "text/plain": [
       "                event_time event_type  product_id          category_id              category_code   brand   price    user_id                          user_session                 even_time\n",
       "0  2019-11-01 00:00:00 UTC       view     1003461  2053013555631882655     electronics.smartphone  xiaomi 489.070  520088904  4d3b30da-a5e4-49df-b1a8-ba5943f1dd33 2019-11-01 00:00:00+00:00\n",
       "1  2019-11-01 00:00:00 UTC       view     5000088  2053013566100866035  appliances.sewing_machine  janome 293.650  530496790  8e5f4f83-366c-4f70-860e-ca7417414283 2019-11-01 00:00:00+00:00\n",
       "2  2019-11-01 00:00:01 UTC       view    17302664  2053013553853497655                    unknown   creed  28.310  561587266  755422e7-9040-477b-9bd2-6a6e8fd97387 2019-11-01 00:00:01+00:00\n",
       "3  2019-11-01 00:00:01 UTC       view     3601530  2053013563810775923  appliances.kitchen.washer      lg 712.870  518085591  3bfb58cd-7892-48cc-8020-2f17e6de6e7f 2019-11-01 00:00:01+00:00\n",
       "4  2019-11-01 00:00:01 UTC       view     1004775  2053013555631882655     electronics.smartphone  xiaomi 183.270  558856683  313628f1-68b8-460d-84f6-cec7a8796ef2 2019-11-01 00:00:01+00:00"
      ]
     },
     "metadata": {},
     "output_type": "display_data"
    }
   ],
   "source": [
    "print(\"Processing missing values...\\n\")\n",
    "\n",
    "if 'price' in df.columns:\n",
    "    missing_price = df['price'].isnull().sum()\n",
    "    print(f\"The price column has {missing_price:,} missing values -> Replace by the median.\")\n",
    "    df['price'] = df['price'].fillna(df['price'].median())\n",
    "else:\n",
    "    print(\"Cannot find the price column in the dataset.\")\n",
    "\n",
    "for col in ['category_code', 'brand']:\n",
    "    if col in df.columns:\n",
    "        missing_count = df[col].isnull().sum()\n",
    "        print(f\"Column '{col}' has {missing_count:,} missing values -> Replace by 'unknown'\")\n",
    "        df[col] = df[col].fillna('unknown')\n",
    "\n",
    "print(\"After processing, the remaining missing columns(if any):\")\n",
    "print(df.isnull().sum()[df.isnull().sum() > 0])\n",
    "display(df.head())"
   ]
  },
  {
   "cell_type": "code",
   "execution_count": 105,
   "id": "dd81dedd-43fd-41fc-be2e-ec400a4a00a8",
   "metadata": {},
   "outputs": [
    {
     "name": "stdout",
     "output_type": "stream",
     "text": [
      "Converting the 'event_time' column to datetime format...\n",
      "Datatype after convertibility: \n",
      "datetime64[ns, UTC]\n"
     ]
    },
    {
     "data": {
      "text/html": [
       "<div>\n",
       "<style scoped>\n",
       "    .dataframe tbody tr th:only-of-type {\n",
       "        vertical-align: middle;\n",
       "    }\n",
       "\n",
       "    .dataframe tbody tr th {\n",
       "        vertical-align: top;\n",
       "    }\n",
       "\n",
       "    .dataframe thead th {\n",
       "        text-align: right;\n",
       "    }\n",
       "</style>\n",
       "<table border=\"1\" class=\"dataframe\">\n",
       "  <thead>\n",
       "    <tr style=\"text-align: right;\">\n",
       "      <th></th>\n",
       "      <th>event_time</th>\n",
       "      <th>event_type</th>\n",
       "      <th>product_id</th>\n",
       "      <th>category_id</th>\n",
       "      <th>category_code</th>\n",
       "      <th>brand</th>\n",
       "      <th>price</th>\n",
       "      <th>user_id</th>\n",
       "      <th>user_session</th>\n",
       "      <th>even_time</th>\n",
       "      <th>hour</th>\n",
       "      <th>day</th>\n",
       "      <th>weekday</th>\n",
       "    </tr>\n",
       "  </thead>\n",
       "  <tbody>\n",
       "    <tr>\n",
       "      <th>0</th>\n",
       "      <td>2019-11-01 00:00:00+00:00</td>\n",
       "      <td>view</td>\n",
       "      <td>1003461</td>\n",
       "      <td>2053013555631882655</td>\n",
       "      <td>electronics.smartphone</td>\n",
       "      <td>xiaomi</td>\n",
       "      <td>489.070</td>\n",
       "      <td>520088904</td>\n",
       "      <td>4d3b30da-a5e4-49df-b1a8-ba5943f1dd33</td>\n",
       "      <td>2019-11-01 00:00:00+00:00</td>\n",
       "      <td>0</td>\n",
       "      <td>1</td>\n",
       "      <td>4</td>\n",
       "    </tr>\n",
       "    <tr>\n",
       "      <th>1</th>\n",
       "      <td>2019-11-01 00:00:00+00:00</td>\n",
       "      <td>view</td>\n",
       "      <td>5000088</td>\n",
       "      <td>2053013566100866035</td>\n",
       "      <td>appliances.sewing_machine</td>\n",
       "      <td>janome</td>\n",
       "      <td>293.650</td>\n",
       "      <td>530496790</td>\n",
       "      <td>8e5f4f83-366c-4f70-860e-ca7417414283</td>\n",
       "      <td>2019-11-01 00:00:00+00:00</td>\n",
       "      <td>0</td>\n",
       "      <td>1</td>\n",
       "      <td>4</td>\n",
       "    </tr>\n",
       "    <tr>\n",
       "      <th>2</th>\n",
       "      <td>2019-11-01 00:00:01+00:00</td>\n",
       "      <td>view</td>\n",
       "      <td>17302664</td>\n",
       "      <td>2053013553853497655</td>\n",
       "      <td>unknown</td>\n",
       "      <td>creed</td>\n",
       "      <td>28.310</td>\n",
       "      <td>561587266</td>\n",
       "      <td>755422e7-9040-477b-9bd2-6a6e8fd97387</td>\n",
       "      <td>2019-11-01 00:00:01+00:00</td>\n",
       "      <td>0</td>\n",
       "      <td>1</td>\n",
       "      <td>4</td>\n",
       "    </tr>\n",
       "    <tr>\n",
       "      <th>3</th>\n",
       "      <td>2019-11-01 00:00:01+00:00</td>\n",
       "      <td>view</td>\n",
       "      <td>3601530</td>\n",
       "      <td>2053013563810775923</td>\n",
       "      <td>appliances.kitchen.washer</td>\n",
       "      <td>lg</td>\n",
       "      <td>712.870</td>\n",
       "      <td>518085591</td>\n",
       "      <td>3bfb58cd-7892-48cc-8020-2f17e6de6e7f</td>\n",
       "      <td>2019-11-01 00:00:01+00:00</td>\n",
       "      <td>0</td>\n",
       "      <td>1</td>\n",
       "      <td>4</td>\n",
       "    </tr>\n",
       "    <tr>\n",
       "      <th>4</th>\n",
       "      <td>2019-11-01 00:00:01+00:00</td>\n",
       "      <td>view</td>\n",
       "      <td>1004775</td>\n",
       "      <td>2053013555631882655</td>\n",
       "      <td>electronics.smartphone</td>\n",
       "      <td>xiaomi</td>\n",
       "      <td>183.270</td>\n",
       "      <td>558856683</td>\n",
       "      <td>313628f1-68b8-460d-84f6-cec7a8796ef2</td>\n",
       "      <td>2019-11-01 00:00:01+00:00</td>\n",
       "      <td>0</td>\n",
       "      <td>1</td>\n",
       "      <td>4</td>\n",
       "    </tr>\n",
       "  </tbody>\n",
       "</table>\n",
       "</div>"
      ],
      "text/plain": [
       "                 event_time event_type  product_id          category_id              category_code   brand   price    user_id                          user_session                 even_time  hour  day  weekday\n",
       "0 2019-11-01 00:00:00+00:00       view     1003461  2053013555631882655     electronics.smartphone  xiaomi 489.070  520088904  4d3b30da-a5e4-49df-b1a8-ba5943f1dd33 2019-11-01 00:00:00+00:00     0    1        4\n",
       "1 2019-11-01 00:00:00+00:00       view     5000088  2053013566100866035  appliances.sewing_machine  janome 293.650  530496790  8e5f4f83-366c-4f70-860e-ca7417414283 2019-11-01 00:00:00+00:00     0    1        4\n",
       "2 2019-11-01 00:00:01+00:00       view    17302664  2053013553853497655                    unknown   creed  28.310  561587266  755422e7-9040-477b-9bd2-6a6e8fd97387 2019-11-01 00:00:01+00:00     0    1        4\n",
       "3 2019-11-01 00:00:01+00:00       view     3601530  2053013563810775923  appliances.kitchen.washer      lg 712.870  518085591  3bfb58cd-7892-48cc-8020-2f17e6de6e7f 2019-11-01 00:00:01+00:00     0    1        4\n",
       "4 2019-11-01 00:00:01+00:00       view     1004775  2053013555631882655     electronics.smartphone  xiaomi 183.270  558856683  313628f1-68b8-460d-84f6-cec7a8796ef2 2019-11-01 00:00:01+00:00     0    1        4"
      ]
     },
     "execution_count": 105,
     "metadata": {},
     "output_type": "execute_result"
    }
   ],
   "source": [
    "print(\"Converting the 'event_time' column to datetime format...\")\n",
    "df['event_time'] = pd.to_datetime(df['event_time'], errors='coerce')\n",
    "print(\"Datatype after convertibility: \")\n",
    "print(df['event_time'].dtypes)\n",
    "df['hour'] = df['event_time'].dt.hour\n",
    "df['day'] = df['event_time'].dt.day\n",
    "df['weekday'] = df['event_time'].dt.weekday\n",
    "df.head()"
   ]
  },
  {
   "cell_type": "code",
   "execution_count": 106,
   "id": "02426a7a-627f-40b7-b8f1-dce653a1750c",
   "metadata": {},
   "outputs": [
    {
     "name": "stdout",
     "output_type": "stream",
     "text": [
      "Number of completely duplicated rows: 27\n",
      "✓ Removed 27 duplicate lines.\n"
     ]
    }
   ],
   "source": [
    "duplicates = df.duplicated().sum()\n",
    "print(f\"Number of completely duplicated rows: {duplicates:,}\")\n",
    "if duplicates > 0:\n",
    "    df = df.drop_duplicates()\n",
    "    print(f\"✓ Removed {duplicates:,} duplicate lines.\")\n",
    "else:\n",
    "    print(f\"No duplicated records.\")"
   ]
  },
  {
   "cell_type": "code",
   "execution_count": 107,
   "id": "f28214c9-caf5-4afb-8fbc-bf4a89872307",
   "metadata": {},
   "outputs": [
    {
     "name": "stdout",
     "output_type": "stream",
     "text": [
      "Product price statistics: \n"
     ]
    },
    {
     "data": {
      "text/plain": [
       "count   99973.000\n",
       "mean      281.554\n",
       "std       342.420\n",
       "min         0.000\n",
       "25%        65.640\n",
       "50%       164.950\n",
       "75%       350.860\n",
       "max      2574.070\n",
       "Name: price, dtype: float64"
      ]
     },
     "metadata": {},
     "output_type": "display_data"
    },
    {
     "data": {
      "image/png": "[encoded data removed]",
      "text/plain": [
       "<Figure size 640x480 with 1 Axes>"
      ]
     },
     "metadata": {},
     "output_type": "display_data"
    },
    {
     "name": "stdout",
     "output_type": "stream",
     "text": [
      "Lower bound: -362.19\n",
      "Upper bound: 778.69\n",
      "Numbers of outliers discovered: 8,090\n",
      "Dataset after outliers elimination: 91,883 rows.\n",
      "DataFrame final size: 91,883\n"
     ]
    }
   ],
   "source": [
    "print(\"Product price statistics: \")\n",
    "display(df['price'].describe())\n",
    "plt.boxplot(df['price'], vert=False)\n",
    "plt.title(\"Product price distribution\")\n",
    "plt.xlabel(\"Price\")\n",
    "plt.show()\n",
    "\n",
    "Q1 = df['price'].quantile(0.25)\n",
    "Q3 = df['price'].quantile(0.75)\n",
    "IQR = Q3 - Q1\n",
    "\n",
    "lower_bound = Q1 - 1.5 * IQR\n",
    "upper_bound = Q3 + 1.5 * IQR\n",
    "\n",
    "print(f\"Lower bound: {lower_bound:.2f}\")\n",
    "print(f\"Upper bound: {upper_bound:.2f}\")\n",
    "\n",
    "outliers = df[(df['price'] < lower_bound) | (df['price'] > upper_bound)]\n",
    "print(f\"Numbers of outliers discovered: {len(outliers):,}\")\n",
    "\n",
    "df = df[(df['price'] >= lower_bound) & (df['price'] <= upper_bound)]\n",
    "\n",
    "print(f\"Dataset after outliers elimination: {len(df):,} rows.\")\n",
    "print(f\"DataFrame final size: {len(df):,}\")"
   ]
  },
  {
   "cell_type": "code",
   "execution_count": 108,
   "id": "0ac8d227-6a1a-4ad9-ac3c-60a2ad012959",
   "metadata": {},
   "outputs": [
    {
     "name": "stdout",
     "output_type": "stream",
     "text": [
      "✓ Data successfully standardized (mean ≈ 0, std ≈ 1).\n"
     ]
    },
    {
     "data": {
      "text/html": [
       "<div>\n",
       "<style scoped>\n",
       "    .dataframe tbody tr th:only-of-type {\n",
       "        vertical-align: middle;\n",
       "    }\n",
       "\n",
       "    .dataframe tbody tr th {\n",
       "        vertical-align: top;\n",
       "    }\n",
       "\n",
       "    .dataframe thead th {\n",
       "        text-align: right;\n",
       "    }\n",
       "</style>\n",
       "<table border=\"1\" class=\"dataframe\">\n",
       "  <thead>\n",
       "    <tr style=\"text-align: right;\">\n",
       "      <th></th>\n",
       "      <th>price</th>\n",
       "      <th>hour</th>\n",
       "      <th>day</th>\n",
       "      <th>weekday</th>\n",
       "    </tr>\n",
       "  </thead>\n",
       "  <tbody>\n",
       "    <tr>\n",
       "      <th>0</th>\n",
       "      <td>1.616</td>\n",
       "      <td>-2.083</td>\n",
       "      <td>0.000</td>\n",
       "      <td>0.000</td>\n",
       "    </tr>\n",
       "    <tr>\n",
       "      <th>1</th>\n",
       "      <td>0.524</td>\n",
       "      <td>-2.083</td>\n",
       "      <td>0.000</td>\n",
       "      <td>0.000</td>\n",
       "    </tr>\n",
       "    <tr>\n",
       "      <th>2</th>\n",
       "      <td>-0.960</td>\n",
       "      <td>-2.083</td>\n",
       "      <td>0.000</td>\n",
       "      <td>0.000</td>\n",
       "    </tr>\n",
       "    <tr>\n",
       "      <th>3</th>\n",
       "      <td>2.868</td>\n",
       "      <td>-2.083</td>\n",
       "      <td>0.000</td>\n",
       "      <td>0.000</td>\n",
       "    </tr>\n",
       "    <tr>\n",
       "      <th>4</th>\n",
       "      <td>-0.094</td>\n",
       "      <td>-2.083</td>\n",
       "      <td>0.000</td>\n",
       "      <td>0.000</td>\n",
       "    </tr>\n",
       "  </tbody>\n",
       "</table>\n",
       "</div>"
      ],
      "text/plain": [
       "   price   hour   day  weekday\n",
       "0  1.616 -2.083 0.000    0.000\n",
       "1  0.524 -2.083 0.000    0.000\n",
       "2 -0.960 -2.083 0.000    0.000\n",
       "3  2.868 -2.083 0.000    0.000\n",
       "4 -0.094 -2.083 0.000    0.000"
      ]
     },
     "execution_count": 108,
     "metadata": {},
     "output_type": "execute_result"
    }
   ],
   "source": [
    "num_cols = ['price', 'hour', 'day', 'weekday']\n",
    "scaler = StandardScaler()\n",
    "if len(df) > 0:\n",
    "    df[num_cols] = scaler.fit_transform(df[num_cols])\n",
    "    print(\"✓ Data successfully standardized (mean ≈ 0, std ≈ 1).\")\n",
    "else:\n",
    "    print(\"⚠️ WARNING: DataFrame is empty (0 samples). Standardization step skipped.\")\n",
    "df[num_cols].head()"
   ]
  },
  {
   "cell_type": "code",
   "execution_count": 109,
   "id": "a82bec8e-e5cd-4e9a-bee8-26fb899f2ce2",
   "metadata": {},
   "outputs": [
    {
     "name": "stdout",
     "output_type": "stream",
     "text": [
      "Traning size(X_train): (73506, 6)\n",
      "Testing size(X_test):  (18377, 6)\n"
     ]
    }
   ],
   "source": [
    "df['is_purchase'] = (df['event_type'] == 'purchase').astype(int)\n",
    "#Removing 'event_type' from the list of features to avoid data leakage\n",
    "features = ['category_code', 'brand', 'price', 'hour', 'day', 'weekday']\n",
    "\n",
    "X = df[features]\n",
    "y = df['is_purchase']\n",
    "\n",
    "X_train, X_test, y_train, y_test = train_test_split(\n",
    "    X, y, test_size=0.2, random_state=42, stratify=y\n",
    ")\n",
    "\n",
    "print(f\"Traning size(X_train): {X_train.shape}\")\n",
    "print(f\"Testing size(X_test):  {X_test.shape}\")"
   ]
  },
  {
   "cell_type": "code",
   "execution_count": 110,
   "id": "7cbaac7b-b5ea-45e3-a5fc-83bb262c8627",
   "metadata": {},
   "outputs": [
    {
     "name": "stdout",
     "output_type": "stream",
     "text": [
      "----- Dtypes of X_train -----\n",
      "category_code     object\n",
      "brand             object\n",
      "price            float64\n",
      "hour             float64\n",
      "day              float64\n",
      "weekday          float64\n",
      "dtype: object\n",
      "\n",
      "Detected object-columns CONTAINING Timestamp instances: []\n",
      "Detected datetime64 dtypes: []\n"
     ]
    }
   ],
   "source": [
    "print(\"----- Dtypes of X_train -----\")\n",
    "print(X_train.dtypes)\n",
    "timestamp_cols = []\n",
    "for col in X_train.columns:\n",
    "    if X_train[col].dtype == 'object':\n",
    "        sample_vals = X_train[col].dropna().head(200).tolist()\n",
    "        for v in sample_vals:\n",
    "            if isinstance(v, (pd.Timestamp, pd.DatetimeTZDtype, np.datetime64)):\n",
    "                timestamp_cols.append(col)\n",
    "                break\n",
    "\n",
    "dt_cols = list(X_train.select_dtypes(include=['datetime64[ns]', 'datetime64[ns, UTC]']).columns)\n",
    "print(\"\\nDetected object-columns CONTAINING Timestamp instances:\", timestamp_cols)\n",
    "print(\"Detected datetime64 dtypes:\", dt_cols)"
   ]
  },
  {
   "cell_type": "code",
   "execution_count": 111,
   "id": "0f0b6b9c-d355-410b-a70f-c55f177e0f1b",
   "metadata": {},
   "outputs": [
    {
     "name": "stdout",
     "output_type": "stream",
     "text": [
      "No datetime-like columns detected by heuristics.\n"
     ]
    }
   ],
   "source": [
    "sus = list(set(timestamp_cols + dt_cols))\n",
    "if not sus:\n",
    "    print(\"No datetime-like columns detected by heuristics.\")\n",
    "else:\n",
    "    for c in sus:\n",
    "        print(f\"\\n-- Column: {c} --\")\n",
    "        print(\"dtype:\", X_train[c].dtype)\n",
    "        print(\"Sample values (head 20):\")\n",
    "        display(X_train[c].head(20))"
   ]
  },
  {
   "cell_type": "code",
   "execution_count": 112,
   "id": "0d0a42c1-74a3-4316-95ec-8ffbbb040c4e",
   "metadata": {},
   "outputs": [],
   "source": [
    "for c in sus:\n",
    "    try:\n",
    "        X_train[c] = pd.to_datetime(X_train[c], errors='coerce')\n",
    "        X_test[c] = pd.to_datetime(X_test[c], errors='coerce')\n",
    "        X_train[c + '_hour'] = X_train[c].dt.hour\n",
    "        X_train[c + '_day'] = X_train[c].dt.day\n",
    "        X_train[c + '_weekday'] = X_train[c].dt.weekday\n",
    "        X_test[c + '_hour'] = X_test[c].dt.hour\n",
    "        X_test[c + '_day'] = X_test[c].dt.day\n",
    "        X_test[c + '_weekday'] = X_test[c].dt.weekday\n",
    "        X_train.drop(columns=[c], inplace=True)\n",
    "        X_test.drop(columns=[c], inplace=True)\n",
    "        print(f\"Converted {c} -> {c}_hour/{c}_day/{c}_weekday and dropped original.\")\n",
    "    except Exception as e:\n",
    "        print(f\"Failed to convert {c}: {e}\")"
   ]
  },
  {
   "cell_type": "code",
   "execution_count": 113,
   "id": "6f411dff-8db4-470c-a799-f0ecb1d6c235",
   "metadata": {},
   "outputs": [
    {
     "name": "stdout",
     "output_type": "stream",
     "text": [
      "Non-numeric columns remaining: ['category_code', 'brand']\n",
      "\n",
      "Column category_code dtype: object\n"
     ]
    },
    {
     "data": {
      "text/plain": [
       "2043                              unknown\n",
       "14001    appliances.kitchen.refrigerators\n",
       "82171              electronics.smartphone\n",
       "53221              electronics.smartphone\n",
       "41033                             unknown\n",
       "13255                             unknown\n",
       "9477                   apparel.shoes.keds\n",
       "29137              electronics.smartphone\n",
       "3390                              unknown\n",
       "65514                             unknown\n",
       "Name: category_code, dtype: object"
      ]
     },
     "metadata": {},
     "output_type": "display_data"
    },
    {
     "name": "stdout",
     "output_type": "stream",
     "text": [
      "\n",
      "Column brand dtype: object\n"
     ]
    },
    {
     "data": {
      "text/plain": [
       "2043     rondell\n",
       "14001      haier\n",
       "82171     xiaomi\n",
       "53221    samsung\n",
       "41033    unknown\n",
       "13255    unknown\n",
       "9477       asics\n",
       "29137    samsung\n",
       "3390        sony\n",
       "65514    unknown\n",
       "Name: brand, dtype: object"
      ]
     },
     "metadata": {},
     "output_type": "display_data"
    }
   ],
   "source": [
    "non_numeric = [c for c in X_train.columns if not pd.api.types.is_numeric_dtype(X_train[c])]\n",
    "print(\"Non-numeric columns remaining:\", non_numeric)\n",
    "for c in non_numeric:\n",
    "    print(f\"\\nColumn {c} dtype: {X_train[c].dtype}\")\n",
    "    display(X_train[c].head(10))"
   ]
  },
  {
   "cell_type": "code",
   "execution_count": 114,
   "id": "820b0267-b697-4f27-9bda-4373cab2ae87",
   "metadata": {},
   "outputs": [
    {
     "name": "stdout",
     "output_type": "stream",
     "text": [
      "Converted non-numeric columns to numeric where possible.\n",
      "Any remaining non-numeric types? []\n"
     ]
    }
   ],
   "source": [
    "X_train_num = X_train.copy()\n",
    "X_test_num = X_test.copy()\n",
    "for col in X_train_num.columns:\n",
    "    if not pd.api.types.is_numeric_dtype(X_train_num[col]):\n",
    "        X_train_num[col] = pd.to_numeric(X_train_num[col], errors='coerce')\n",
    "        X_test_num[col] = pd.to_numeric(X_test_num[col], errors='coerce')\n",
    "print(\"Converted non-numeric columns to numeric where possible.\")\n",
    "print(\"Any remaining non-numeric types?\", [c for c in X_train_num.columns if not pd.api.types.is_numeric_dtype(X_train_num[c])])"
   ]
  },
  {
   "cell_type": "code",
   "execution_count": 115,
   "id": "4751c438-f217-4e34-be90-78feb9642f42",
   "metadata": {},
   "outputs": [
    {
     "name": "stdout",
     "output_type": "stream",
     "text": [
      "Filled NaNs with median from training set.\n",
      "Final shapes: (73506, 6) (18377, 6)\n"
     ]
    }
   ],
   "source": [
    "for col in X_train_num.columns:\n",
    "    if X_train_num[col].isnull().any():\n",
    "        med = X_train_num[col].median()\n",
    "        X_train_num[col].fillna(med, inplace=True)\n",
    "        X_test_num[col].fillna(med, inplace=True)\n",
    "print(\"Filled NaNs with median from training set.\")\n",
    "print(\"Final shapes:\", X_train_num.shape, X_test_num.shape)"
   ]
  },
  {
   "cell_type": "code",
   "execution_count": 116,
   "id": "b8ffb184-1cd7-4702-bcd7-e410f1fabe08",
   "metadata": {},
   "outputs": [
    {
     "name": "stdout",
     "output_type": "stream",
     "text": [
      "Categorial columns (pre-encode): ['category_code', 'brand']\n",
      "Encoded categorical columns.\n"
     ]
    }
   ],
   "source": [
    "cat_cols = X_train.select_dtypes(include=['object', 'category']).columns.tolist()\n",
    "print(\"Categorial columns (pre-encode):\", cat_cols)\n",
    "if cat_cols:\n",
    "    enc = OrdinalEncoder(handle_unknown='use_encoded_value', unknown_value = -1)\n",
    "    X_train_num[cat_cols]= enc.fit_transform(X_train[cat_cols])\n",
    "    X_test_num[cat_cols] = enc.transform(X_test[cat_cols])\n",
    "    print(\"Encoded categorical columns.\")"
   ]
  },
  {
   "cell_type": "code",
   "execution_count": 117,
   "id": "e51bae57-5045-4777-9ee7-dc6630d8f784",
   "metadata": {},
   "outputs": [
    {
     "name": "stdout",
     "output_type": "stream",
     "text": [
      "Any non-numeric left in X_train_num? []\n",
      "Shapes to feed model: (73506, 6) (18377, 6)\n",
      "✅ Model trained successfully on numeric data.\n"
     ]
    }
   ],
   "source": [
    "print(\"Any non-numeric left in X_train_num?\", [c for c in X_train_num.columns if not pd.api.types.is_numeric_dtype(X_train_num[c])])\n",
    "Xtr = X_train_num.values\n",
    "Xte = X_test_num.values\n",
    "print(\"Shapes to feed model:\", Xtr.shape, Xte.shape)\n",
    "#Training\n",
    "model_nb = GaussianNB()\n",
    "model_nb.fit(Xtr, y_train)\n",
    "print(\"✅ Model trained successfully on numeric data.\")"
   ]
  },
  {
   "cell_type": "code",
   "execution_count": 118,
   "id": "b45839b0-d20a-4fb8-97e7-5d0a20c6338b",
   "metadata": {},
   "outputs": [
    {
     "name": "stdout",
     "output_type": "stream",
     "text": [
      "✓ Data has been encoded and standardized according to the correct procedure.\n"
     ]
    }
   ],
   "source": [
    "categorical_cols = ['category_code', 'brand']\n",
    "numerical_cols = ['price', 'hour', 'day', 'weekday']\n",
    "\n",
    "for col in categorical_cols:\n",
    "    le = LabelEncoder()\n",
    "    X_train[col] = le.fit_transform(X_train[col])\n",
    "    X_test[col] = X_test[col].map(lambda s: -1 if s not in le.classes_ else le.transform([s])[0])\n",
    "\n",
    "scaler = StandardScaler()\n",
    "X_train[numerical_cols] = scaler.fit_transform(X_train[numerical_cols])\n",
    "X_test[numerical_cols] = scaler.transform(X_test[numerical_cols])\n",
    "\n",
    "print(\"✓ Data has been encoded and standardized according to the correct procedure.\")"
   ]
  },
  {
   "cell_type": "code",
   "execution_count": 119,
   "id": "7e5f7686-ee84-4af8-a142-44e9135e2262",
   "metadata": {},
   "outputs": [
    {
     "name": "stdout",
     "output_type": "stream",
     "text": [
      "Class Distribution before using SMOTE:\n",
      "is_purchase\n",
      "0    72464\n",
      "1     1042\n",
      "Name: count, dtype: int64\n",
      "Class Distribution after using SMOTE:\n",
      "is_purchase\n",
      "0    72464\n",
      "1    72464\n",
      "Name: count, dtype: int64\n"
     ]
    }
   ],
   "source": [
    "print(\"Class Distribution before using SMOTE:\")\n",
    "print(y_train.value_counts())\n",
    "smote = SMOTE(random_state=42)\n",
    "X_train_smote, y_train_smote = smote.fit_resample(X_train, y_train)\n",
    "print(\"Class Distribution after using SMOTE:\")\n",
    "print(y_train_smote.value_counts())"
   ]
  },
  {
   "cell_type": "code",
   "execution_count": 120,
   "id": "31e3b0da-5431-4170-9ab4-a259a7ecc19e",
   "metadata": {},
   "outputs": [
    {
     "name": "stdout",
     "output_type": "stream",
     "text": [
      "Gaussian Naive Bayes model has been trained successfully.\n"
     ]
    }
   ],
   "source": [
    "model_nb = GaussianNB()\n",
    "model_nb.fit(X_train_smote, y_train_smote)\n",
    "print(\"Gaussian Naive Bayes model has been trained successfully.\")"
   ]
  },
  {
   "cell_type": "code",
   "execution_count": 121,
   "id": "a0b3d183-c94d-4e5b-937f-bc5f03d3070f",
   "metadata": {},
   "outputs": [
    {
     "name": "stdout",
     "output_type": "stream",
     "text": [
      "📊 Detailed classification report:\n",
      "\n",
      "              precision    recall  f1-score   support\n",
      "\n",
      "           0       0.99      1.00      0.99     18116\n",
      "           1       0.00      0.00      0.00       261\n",
      "\n",
      "    accuracy                           0.99     18377\n",
      "   macro avg       0.49      0.50      0.50     18377\n",
      "weighted avg       0.97      0.99      0.98     18377\n",
      "\n"
     ]
    }
   ],
   "source": [
    "print(\"📊 Detailed classification report:\\n\")\n",
    "print(classification_report(Y_test, Y_pred_nb))"
   ]
  },
  {
   "cell_type": "code",
   "execution_count": 122,
   "id": "296510c9-e40c-49b4-abcb-a481b4813e9c",
   "metadata": {},
   "outputs": [
    {
     "name": "stdout",
     "output_type": "stream",
     "text": [
      "'purchase' proportion of the Naive Bayes model: 0.0000\n",
      "📊 Classification report for the random prediction model:\n",
      "              precision    recall  f1-score   support\n",
      "\n",
      "           0       0.99      1.00      0.99     18116\n",
      "           1       0.00      0.00      0.00       261\n",
      "\n",
      "    accuracy                           0.99     18377\n",
      "   macro avg       0.49      0.50      0.50     18377\n",
      "weighted avg       0.97      0.99      0.98     18377\n",
      "\n"
     ]
    },
    {
     "data": {
      "image/png": "[encoded data removed]",
      "text/plain": [
       "<Figure size 1400x700 with 2 Axes>"
      ]
     },
     "metadata": {},
     "output_type": "display_data"
    }
   ],
   "source": [
    "nb_prediction_rate =np.mean(y_pred_nb)\n",
    "print(f\"'purchase' proportion of the Naive Bayes model: {nb_prediction_rate:.4f}\")\n",
    "np.random.seed(42)\n",
    "y_pred_random = np.random.choice([0, 1], size=len(y_test), p = [1 - nb_prediction_rate, nb_prediction_rate])\n",
    "print(\"📊 Classification report for the random prediction model:\")\n",
    "print(classification_report(y_test, y_pred_random))\n",
    "\n",
    "cm_nb = confusion_matrix(y_test, y_pred_nb)\n",
    "cm_random = confusion_matrix(y_test, y_pred_random)\n",
    "\n",
    "fig, axes = plt.subplots(1, 2, figsize = (14,7))\n",
    "sns.heatmap(cm_nb, annot=True, fmt = 'd', cmap = 'Reds', cbar=False, ax=axes[0], \n",
    "            xticklabels = ['not purchase', 'purchase'],\n",
    "            yticklabels = ['not purchase', 'purchase'])\n",
    "axes[0].set_title(\"🔍 Confusion Matrix - Naive Bayes\")\n",
    "axes[0].set_xlabel(\"Prediction\")\n",
    "axes[0].set_ylabel(\"Reality\")\n",
    "\n",
    "sns.heatmap(cm_nb, annot=True, fmt = 'd', cmap = 'Blues', cbar=False, ax=axes[1],\n",
    "            xticklabels = ['not purchase', 'purchase'],\n",
    "            yticklabels = ['not purchase', 'purchase'])\n",
    "axes[0].set_title(\"🔍 Confusion Matrix - Random Prediction\")\n",
    "axes[0].set_xlabel(\"Prediction\")\n",
    "axes[0].set_ylabel(\"Reality\")\n",
    "\n",
    "plt.suptitle('Performance Comparison', fontsize=16)\n",
    "plt.show()"
   ]
  }
 ],
 "metadata": {
  "kernelspec": {
   "display_name": "Python 3 (ipykernel)",
   "language": "python",
   "name": "python3"
  },
  "language_info": {
   "codemirror_mode": {
    "name": "ipython",
    "version": 3
   },
   "file_extension": ".py",
   "mimetype": "text/x-python",
   "name": "python",
   "nbconvert_exporter": "python",
   "pygments_lexer": "ipython3",
   "version": "3.13.3"
  }
 },
 "nbformat": 4,
 "nbformat_minor": 5
}
