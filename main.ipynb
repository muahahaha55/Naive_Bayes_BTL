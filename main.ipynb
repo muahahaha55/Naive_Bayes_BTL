{
 "cells": [
  {
   "cell_type": "markdown",
   "metadata": {},
   "source": [
    "## ***Dự đoán hành vi mua hàng của người tiêu dùng***"
   ]
  },
  {
   "cell_type": "markdown",
   "metadata": {},
   "source": [
    "### ML - NAIVE BAYES VỚI OVERSAMPLING (SMOTE)"
   ]
  },
  {
   "cell_type": "markdown",
   "metadata": {},
   "source": [
    "## **I.** Khái quát về dự án:"
   ]
  },
  {
   "cell_type": "markdown",
   "metadata": {},
   "source": [
    "### **1.1.** Bối cảnh:\n",
    "Trong thương mại điện tử, việc hiểu hành vi người dùng giúp doanh nghiệp tối ưu quảng cáo, tăng tỷ lệ chuyển đổi và doanh thu. Dự án này sử dụng dữ liệu hành vi người dùng để dự đoán khả năng mua hàng.\n",
    "### **1.2.** Mục tiêu:\n",
    "- Xây dựng mô hình dự đoán xác suất người dùng mua hàng dựa trên các đặc điểm hành vi và sản phẩm.  \n",
    "- Phân loại hành vi:\n",
    "    - 0 → Không mua  \n",
    "    - 1 → Mua hàng\n",
    "### **1.3.** Vấn đề mất cân bằng dữ liệu:\n",
    "Trong thực tế, số lượng người dùng thực hiện hành vi mua hàng (`purchase`) ít hơn rất nhiều so với chỉ xem (`view`). Điều này dẫn đến tập dữ liệu bị **mất cân bằng nghiêm trọng**, khiến mô hình có xu hướng dự đoán theo lớp đa số (không mua). Để giải quyết vấn đề này, chúng ta sẽ áp dụng kỹ thuật **Oversampling (SMOTE)**."
   ]
  },
  {
   "cell_type": "markdown",
   "metadata": {},
   "source": [
    "## **II.** Import thư viện và đọc dữ liệu"
   ]
  },
  {
   "cell_type": "code",
   "execution_count": null,
   "metadata": {},
   "outputs": [],
   "source": [
    "import pandas as pd     \n",
    "import numpy as np      \n",
    "import matplotlib.pyplot as plt \n",
    "import seaborn as sns\n",
    "\n",
    "from sklearn.model_selection import train_test_split   \n",
    "from sklearn.naive_bayes import GaussianNB             \n",
    "from sklearn.preprocessing import LabelEncoder, StandardScaler\n",
    "from sklearn.metrics import accuracy_score, confusion_matrix, classification_report\n",
    "from imblearn.over_sampling import SMOTE\n",
    "\n",
    "import warnings\n",
    "warnings.filterwarnings('ignore')  \n",
    "\n",
    "pd.set_option('display.max_columns', 20)   \n",
    "pd.set_option('display.width', 1000)       \n",
    "pd.set_option('display.float_format', lambda x: '%.3f' % x)"
   ]
  },
  {
   "cell_type": "code",
   "execution_count": null,
   "metadata": {},
   "outputs": [],
   "source": [
    "data_path = r'D:\\2019-Nov-100k.csv'\n",
    "#data_path = '2019-Nov-100k.csv' # Thay đổi đường dẫn nếu cần\n",
    "df = pd.read_csv(data_path, nrows=100000)\n",
    "print(f\"✓ Đã đọc dữ liệu thành công với {len(df):,} dòng và {df.shape[1]} cột.\")\n",
    "print(\"Các cột có trong tập dữ liệu: \")\n",
    "print(df.columns.to_list())"
   ]
  },
  {
   "cell_type": "markdown",
   "metadata": {},
   "source": [
    "## **III.** Khám phá dữ liệu ban đầu (EDA)"
   ]
  },
  {
   "cell_type": "code",
   "execution_count": null,
   "metadata": {},
   "outputs": [],
   "source": [
    "print(\"Thông tin chi tiết về tập dữ liệu: \")\n",
    "df.info()\n",
    "print(\"\\nThống kê mô tả cho các cột số: \")\n",
    "print(df.describe())"
   ]
  },
  {
   "cell_type": "code",
   "execution_count": null,
   "metadata": {},
   "outputs": [],
   "source": [
    "print(\"\\n🛒 Thống kê các loại hành vi trong tập dữ liệu: \")\n",
    "event_counts = df['event_type'].value_counts()\n",
    "print(event_counts)\n",
    "\n",
    "plt.figure(figsize=(8,6))\n",
    "sns.barplot(x = event_counts.index, y = event_counts.values, palette='PuBuGn')\n",
    "plt.title(\"Phân phối các loại hành vi\")\n",
    "plt.xlabel(\"Loại hành vi\")\n",
    "plt.ylabel(\"Số lượng\")\n",
    "plt.show()"
   ]
  },
  {
   "cell_type": "markdown",
   "metadata": {},
   "source": [
    "## **IV.** Làm sạch và Tiền xử lý dữ liệu (Preprocessing)"
   ]
  },
  {
   "cell_type": "code",
   "execution_count": null,
   "metadata": {},
   "outputs": [],
   "source": [
    "print(\"Thống kê giá sản phẩm: \")\n",
    "display(df['price'].describe())\n",
    "plt.boxplot(df['price'], vert=False)\n",
    "plt.title(\"Phân phối giá sản phẩm\")\n",
    "plt.xlabel(\"Giá\")\n",
    "plt.show()"
   ]
  },
  {
   "cell_type": "code",
   "execution_count": null,
   "metadata": {},
   "outputs": [],
   "source": [
    "# Xử lý giá trị thiếu\n",
    "print(\"--- Xử lý giá trị thiếu ---\")\n",
    "df['price'] = df['price'].fillna(df['price'].median())\n",
    "df['category_code'] = df['category_code'].fillna('unknown')\n",
    "df['brand'] = df['brand'].fillna('unknown')\n",
    "print(\"✓ Đã xử lý xong giá trị thiếu.\")\n",
    "\n",
    "# Chuyển đổi cột thời gian và tạo đặc trưng mới\n",
    "print(\"\\n--- Xử lý cột thời gian ---\")\n",
    "df['event_time'] = pd.to_datetime(df['event_time'], errors='coerce')\n",
    "df['hour'] = df['event_time'].dt.hour\n",
    "df['day'] = df['event_time'].dt.day\n",
    "df['weekday'] = df['event_time'].dt.weekday\n",
    "print(\"✓ Đã tạo các đặc trưng hour, day, weekday.\")\n",
    "\n",
    "# Xử lý trùng lặp\n",
    "print(\"\\n--- Xử lý trùng lặp ---\")\n",
    "duplicates_before = df.duplicated().sum()\n",
    "df = df.drop_duplicates()\n",
    "print(f\"✓ Đã loại bỏ {duplicates_before} dòng trùng lặp.\")\n",
    "\n",
    "# Xử lý giá trị ngoại lai (outliers) trong cột 'price'\n",
    "print(\"\\n--- Xử lý giá trị ngoại lai ---\")\n",
    "Q1 = df['price'].quantile(0.25)\n",
    "Q3 = df['price'].quantile(0.75)\n",
    "IQR = Q3 - Q1\n",
    "lower_bound = Q1 - 1.5 * IQR\n",
    "upper_bound = Q3 + 1.5 * IQR\n",
    "outliers_count = df[(df['price'] < lower_bound) | (df['price'] > upper_bound)].shape[0]\n",
    "df = df[(df['price'] >= lower_bound) & (df['price'] <= upper_bound)]\n",
    "print(f\"✓ Đã loại bỏ {outliers_count} giá trị ngoại lai trong cột 'price'.\")\n",
    "print(f\"\\nKích thước dữ liệu sau khi làm sạch: {df.shape}\")"
   ]
  },
  {
   "cell_type": "markdown",
   "metadata": {},
   "source": [
    "## **V.** Chuẩn bị dữ liệu và chia Train-Test"
   ]
  },
  {
   "cell_type": "markdown",
   "metadata": {},
   "source": [
    "Đây là bước quan trọng nhất để tránh rò rỉ dữ liệu. Chúng ta sẽ chia dữ liệu thô (sau khi làm sạch cơ bản) thành các tập train và test trước khi thực hiện bất kỳ bước mã hóa hoặc chuẩn hóa nào."
   ]
  },
  {
   "cell_type": "code",
   "execution_count": null,
   "metadata": {},
   "outputs": [],
   "source": [
    "# Tạo biến mục tiêu\n",
    "# Lưu ý: Chúng ta tạo cột 'is_purchase' từ 'event_type', \n",
    "# do đó 'event_type' không được dùng làm feature nữa.\n",
    "df['is_purchase'] = (df['event_type'] == 'purchase').astype(int)\n",
    "\n",
    "# Loại bỏ 'event_type' khỏi danh sách features để tránh rò rỉ dữ liệu\n",
    "features = ['category_code', 'brand', 'price', 'hour', 'day', 'weekday']\n",
    "\n",
    "X = df[features]\n",
    "y = df['is_purchase']\n",
    "\n",
    "# Chia dữ liệu TRƯỚC KHI xử lý\n",
    "X_train, X_test, y_train, y_test = train_test_split(\n",
    "    X, y, test_size=0.2, random_state=42, stratify=y\n",
    ")\n",
    "\n",
    "print(f\"Kích thước tập huấn luyện (X_train): {X_train.shape}\")\n",
    "print(f\"Kích thước tập kiểm thử (X_test):  {X_test.shape}\")"
   ]
  },
  {
   "cell_type": "markdown",
   "metadata": {},
   "source": [
    "## **VI.** Mã hóa và Chuẩn hóa dữ liệu (Theo đúng quy trình)"
   ]
  },
  {
   "cell_type": "code",
   "execution_count": null,
   "metadata": {},
   "outputs": [],
   "source": [
    "# Xác định các cột cần xử lý\n",
    "categorical_cols = ['category_code', 'brand']\n",
    "numerical_cols = ['price', 'hour', 'day', 'weekday']\n",
    "\n",
    "# Tạo bản sao để tránh SettingWithCopyWarning\n",
    "X_train = X_train.copy()\n",
    "X_test = X_test.copy()\n",
    "\n",
    "# 1. Mã hóa các cột categorical\n",
    "for col in categorical_cols:\n",
    "    le = LabelEncoder()\n",
    "    X_train[col] = le.fit_transform(X_train[col])\n",
    "    # Xử lý các giá trị chưa từng thấy trong tập test\n",
    "    X_test[col] = X_test[col].map(lambda s: -1 if s not in le.classes_ else le.transform([s])[0])\n",
    "\n",
    "# 2. Chuẩn hóa các cột số\n",
    "scaler = StandardScaler()\n",
    "X_train[numerical_cols] = scaler.fit_transform(X_train[numerical_cols])\n",
    "X_test[numerical_cols] = scaler.transform(X_test[numerical_cols])\n",
    "\n",
    "print(\"✓ Dữ liệu đã được mã hóa và chuẩn hóa theo đúng quy trình.\")"
   ]
  },
  {
   "cell_type": "markdown",
   "metadata": {},
   "source": [
    "## **VII.** Cân bằng dữ liệu huấn luyện với Oversampling (SMOTE)"
   ]
  },
  {
   "cell_type": "code",
   "execution_count": null,
   "metadata": {},
   "outputs": [],
   "source": [
    "print(\"Phân bố lớp TRƯỚC khi áp dụng SMOTE:\")\n",
    "print(y_train.value_counts())\n",
    "\n",
    "smote = SMOTE(random_state=42)\n",
    "X_train_smote, y_train_smote = smote.fit_resample(X_train, y_train)\n",
    "\n",
    "print(\"\\nPhân bố lớp SAU khi áp dụng SMOTE:\")\n",
    "print(y_train_smote.value_counts())"
   ]
  },
  {
   "cell_type": "markdown",
   "metadata": {},
   "source": [
    "## **VIII.** Huấn luyện mô hình Gaussian Naive Bayes"
   ]
  },
  {
   "cell_type": "markdown",
   "metadata": {},
   "source": [
    "###  8.1. Kiến thức nền tảng về Naive Bayes\n",
    "\n",
    "**Naive Bayes** là một nhóm các thuật toán phân loại dựa trên **Định lý Bayes** với một giả định \"ngây thơ\" (naive) về sự độc lập có điều kiện giữa các đặc trưng.\n",
    "\n",
    "**Công thức Bayes cơ bản:**\n",
    "$$P(Y|X) = \\frac{P(X|Y) \\cdot P(Y)}{P(X)}$$\n",
    "\n",
    "Trong đó:\n",
    "- $Y$: là biến mục tiêu (lớp cần dự đoán, ví dụ: `mua` hoặc `không mua`).\n",
    "- $X$: là các đặc trưng đầu vào (ví dụ: `price`, `hour`, `brand`).\n",
    "- $P(Y|X)$: là xác suất có điều kiện của lớp $Y$ khi biết các đặc trưng $X$ (đây là xác suất chúng ta muốn tìm).\n",
    "- $P(X|Y)$: là xác suất xuất hiện các đặc trưng $X$ khi biết lớp là $Y$.\n",
    "\n",
    "**Giả định \"ngây thơ\"**: Thuật toán giả định rằng tất cả các đặc trưng là độc lập với nhau khi đã biết lớp. Điều này giúp đơn giản hóa việc tính toán $P(X|Y)$ bằng cách nhân xác suất của từng đặc trưng riêng lẻ.\n",
    "\n",
    "**Gaussian Naive Bayes**:\n",
    "Trong trường hợp này, chúng ta sử dụng **Gaussian Naive Bayes** vì các đặc trưng số của chúng ta (như `price`, `hour` sau khi chuẩn hóa) có thể được giả định là tuân theo **phân phối chuẩn (Gaussian)**. Thuật toán sẽ tính toán giá trị trung bình (mean) và phương sai (variance) cho từng đặc trưng ứng với mỗi lớp để ước tính xác suất.\n",
    "$$P(x_i | y) = \\frac{1}{\\sqrt{2\\pi\\sigma_y^2}} \\exp\\left(-\\frac{(x_i - \\mu_y)^2}{2\\sigma_y^2}\\right)$$"
   ]
  },
  {
   "cell_type": "code",
   "execution_count": null,
   "metadata": {},
   "outputs": [],
   "source": [
    "# Huấn luyện mô hình trên dữ liệu đã được cân bằng bằng SMOTE\n",
    "model_nb = GaussianNB()\n",
    "model_nb.fit(X_train_smote, y_train_smote)\n",
    "\n",
    "print(\"✅ Mô hình Gaussian Naive Bayes đã được huấn luyện thành công.\")"
   ]
  },
  {
   "cell_type": "markdown",
   "metadata": {},
   "source": [
    "## **IX.** Đánh giá mô hình"
   ]
  },
  {
   "cell_type": "code",
   "execution_count": null,
   "metadata": {},
   "outputs": [],
   "source": [
    "# Đánh giá trên tập test gốc để phản ánh hiệu năng thực tế\n",
    "y_pred = model_nb.predict(X_test)\n",
    "\n",
    "# 1. In báo cáo phân loại chi tiết cho mô hình Naive Bayes\n",
    "print(\"📊 Báo cáo phân loại chi tiết cho mô hình Naive Bayes:\\n\")\n",
    "print(classification_report(y_test, y_pred))"
   ]
  },
  {
   "cell_type": "markdown",
   "metadata": {},
   "source": [
    "### **So sánh với mô hình dự đoán ngẫu nhiên**\n",
    "\n",
    "Để so sánh một cách công bằng, chúng ta tạo ra một mô hình dự đoán ngẫu nhiên nhưng có cùng **tỷ lệ dự đoán \"mua\"** như mô hình Naive Bayes. Điều này giúp kiểm tra xem mô hình của chúng ta có thực sự \"thông minh\" hơn việc đoán ngẫu nhiên với cùng một tần suất hay không."
   ]
  },
  {
   "cell_type": "code",
   "execution_count": null,
   "metadata": {},
   "outputs": [],
   "source": [
    "# Tính tỷ lệ dự đoán mua hàng của mô hình Naive Bayes\n",
    "nb_prediction_rate = np.mean(y_pred)\n",
    "print(f\"Tỷ lệ dự đoán 'Mua' của mô hình Naive Bayes: {nb_prediction_rate:.4f}\")\n",
    "\n",
    "# Tạo dự đoán ngẫu nhiên với cùng tỷ lệ trên\n",
    "np.random.seed(42) # Để đảm bảo kết quả có thể tái lập\n",
    "y_pred_random = np.random.choice([0, 1], size=len(y_test), p=[1 - nb_prediction_rate, nb_prediction_rate])\n",
    "\n",
    "print(\"\\n📊 Báo cáo phân loại cho mô hình dự đoán ngẫu nhiên:\\n\")\n",
    "print(classification_report(y_test, y_pred_random))\n",
    "\n",
    "# Lấy ma trận nhầm lẫn cho cả hai mô hình\n",
    "cm_nb = confusion_matrix(y_test, y_pred)\n",
    "cm_random = confusion_matrix(y_test, y_pred_random)\n",
    "\n",
    "# Vẽ hai ma trận nhầm lẫn cạnh nhau để so sánh\n",
    "fig, axes = plt.subplots(1, 2, figsize=(14, 6))\n",
    "\n",
    "# Ma trận của Naive Bayes\n",
    "sns.heatmap(cm_nb, annot=True, fmt='d', cmap='Blues', cbar=False, ax=axes[0],\n",
    "            xticklabels=['Không mua', 'Mua'], yticklabels=['Không mua', 'Mua'])\n",
    "axes[0].set_title(\"🔍 Confusion Matrix - Naive Bayes\")\n",
    "axes[0].set_xlabel(\"Dự đoán\")\n",
    "axes[0].set_ylabel(\"Thực tế\")\n",
    "\n",
    "# Ma trận của mô hình ngẫu nhiên\n",
    "sns.heatmap(cm_random, annot=True, fmt='d', cmap='Greens', cbar=False, ax=axes[1],\n",
    "            xticklabels=['Không mua', 'Mua'], yticklabels=['Không mua', 'Mua'])\n",
    "axes[1].set_title(\"🎲 Confusion Matrix - Dự đoán ngẫu nhiên\")\n",
    "axes[1].set_xlabel(\"Dự đoán\")\n",
    "axes[1].set_ylabel(\"Thực tế\")\n",
    "\n",
    "plt.suptitle('So sánh hiệu suất mô hình', fontsize=16)\n",
    "plt.show()"
   ]
  },
  {
   "cell_type": "markdown",
   "metadata": {},
   "source": [
    "## **X.** Tổng kết"
   ]
  },
  {
   "cell_type": "markdown",
   "metadata": {},
   "source": [
    "### **Tóm tắt kết quả:**\n",
    "1.  **Vấn đề ban đầu:** Dữ liệu bị mất cân bằng nghiêm trọng với lớp 'mua hàng' (lớp 1) chỉ chiếm ~1.4%. Nếu không xử lý, mô hình sẽ có xu hướng bỏ qua lớp này.\n",
    "\n",
    "2.  **Giải pháp:** Chúng ta đã áp dụng thành công kỹ thuật **SMOTE (Oversampling)** trên tập huấn luyện để tạo ra các mẫu tổng hợp, giúp cân bằng số lượng giữa hai lớp.\n",
    "\n",
    "3.  **Kết quả của mô hình Naive Bayes:**\n",
    "    *   **Recall (Lớp 1 - Mua hàng):** Chỉ số này đã tăng lên một mức đáng kể, cho thấy mô hình đã có khả năng **phát hiện được một phần** các trường hợp khách hàng thực sự mua hàng, thay vì bỏ sót hoàn toàn.\n",
    "    *   **Precision (Lớp 1 - Mua hàng):** Chỉ số này không cao, cho thấy mô hình vẫn còn dự đoán sai khá nhiều (dự đoán \"mua\" nhưng thực tế là \"không mua\"). Đây là sự đánh đổi thường thấy để có được Recall cao hơn.\n",
    "    *   **So sánh Confusion Matrix:** Nhìn vào hai ma trận nhầm lẫn, ta thấy rõ sự khác biệt. Mặc dù cả hai mô hình có thể dự đoán \"mua\" với số lượng tương đương (tổng cột 'Mua' gần bằng nhau), nhưng mô hình Naive Bayes phân bổ các dự đoán đó một cách \"thông minh\" hơn nhiều. Cụ thể, số lượng **True Positives** (dự đoán đúng là 'Mua') của Naive Bayes cao hơn đáng kể so với mô hình ngẫu nhiên, trong khi số lượng **False Positives** (dự đoán sai là 'Mua') lại thấp hơn.\n",
    "\n",
    "### **Kết luận:**\n",
    "Việc áp dụng **Oversampling (SMOTE)** đã chứng tỏ hiệu quả trong việc giải quyết vấn đề mất cân bằng dữ liệu. Mô hình Naive Bayes, sau khi được huấn luyện trên dữ liệu cân bằng, đã trở nên hữu ích hơn trong thực tế vì nó có khả năng xác định các khách hàng tiềm năng, dù phải đánh đổi một chút về độ chính xác của các dự đoán này.\n",
    "\n",
    "**Việc so sánh trực tiếp với một mô hình dự đoán ngẫu nhiên có cùng tỷ lệ đầu ra** đã khẳng định một cách mạnh mẽ rằng mô hình Naive Bayes đã thực sự học được các mẫu (patterns) có ý nghĩa từ dữ liệu. Nó không chỉ đơn thuần đưa ra dự đoán mà còn đưa ra những dự đoán có độ chính xác cao hơn hẳn so với việc tung đồng xu. Điều này chứng minh giá trị của việc xây dựng mô hình học máy trong bài toán này."
   ]
  }
 ],
 "metadata": {
  "kernelspec": {
   "display_name": "Python 3",
   "language": "python",
   "name": "python3"
  },
  "language_info": {
   "codemirror_mode": {
    "name": "ipython",
    "version": 3
   },
   "file_extension": ".py",
   "mimetype": "text/x-python",
   "name": "python",
   "nbconvert_exporter": "python",
   "pygments_lexer": "ipython3",
   "version": "3.13.0"
  }
 },
 "nbformat": 4,
 "nbformat_minor": 4
}
